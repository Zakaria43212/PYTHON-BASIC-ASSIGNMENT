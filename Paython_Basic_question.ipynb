{
  "nbformat": 4,
  "nbformat_minor": 0,
  "metadata": {
    "colab": {
      "provenance": []
    },
    "kernelspec": {
      "name": "python3",
      "display_name": "Python 3"
    },
    "language_info": {
      "name": "python"
    }
  },
  "cells": [
    {
      "cell_type": "markdown",
      "source": [
        "# **PAYTHON BASIC QUESTIONS ( ASSIGNMENT )**"
      ],
      "metadata": {
        "id": "bhOGFHMvVFnI"
      }
    },
    {
      "cell_type": "markdown",
      "source": [
        "\n",
        "\n",
        "**1.What is Python, and why is it popular?**\n",
        "\n",
        "**Answer :-** Python is a programming language that is very easy to read and write. It is popular because it has simple syntax and can be used for many things like web development, data science, automation, and more.\n"
      ],
      "metadata": {
        "id": "v0sanbNcbluN"
      }
    },
    {
      "cell_type": "markdown",
      "source": [
        "**2. What is an interpreter in Python?**\n",
        "\n",
        "**Answer :-** An interpreter is a program that reads and runs Python code line by line. If there is an error, it shows the error immediately."
      ],
      "metadata": {
        "id": "HuNOQ7VOaoMn"
      }
    },
    {
      "cell_type": "markdown",
      "source": [
        "**3. What are pre-defined keywords in Python?**\n",
        "\n",
        "**Answer :-**  Pre-defined keywords are special words that have a fixed meaning in Python, like if, else, while, for, def, etc. We cannot use them as variable names."
      ],
      "metadata": {
        "id": "W_4ieHIVaoPr"
      }
    },
    {
      "cell_type": "markdown",
      "source": [
        "**4. Can keywords be used as variable names?**\n",
        "\n",
        "**Answer :-** No, we cannot use keywords as variable names because they are already used by Python for specific purposes."
      ],
      "metadata": {
        "id": "ss95A8WjcNi0"
      }
    },
    {
      "cell_type": "markdown",
      "source": [
        "**5. What is mutability in Python?**\n",
        "\n",
        "**Answer :-** Mutability means the ability to change the value of an object. If something is mutable, it means we can change its elements."
      ],
      "metadata": {
        "id": "ZF2wWGUHcNlj"
      }
    },
    {
      "cell_type": "markdown",
      "source": [
        "**6. Why are lists mutable, but tuples are immutable?**\n",
        "\n",
        "**Answer:-** Lists are mutable, so we can add, remove, or change items in them. Tuples are immutable, so once they are created, we cannot change them."
      ],
      "metadata": {
        "id": "CxQe33QwcNoo"
      }
    },
    {
      "cell_type": "markdown",
      "source": [
        "**7. What is the difference between “==” and “is” operators in Python?**\n",
        "\n",
        "**Answer:-** == checks if two values are equal. is checks if two variables point to the same object in memory."
      ],
      "metadata": {
        "id": "c9NMrvCRcNrY"
      }
    },
    {
      "cell_type": "markdown",
      "source": [
        "**8. What are logical operators in Python?**\n",
        "\n",
        "**Answer:-** Logical operators are used to combine conditions. They are and, or, and not."
      ],
      "metadata": {
        "id": "-yEJW4lecNuP"
      }
    },
    {
      "cell_type": "markdown",
      "source": [
        "**9. What is type casting in Python?**\n",
        "\n",
        "**Answer:-** Type casting means changing the data type of a value. For example, turning a string into an integer using int(\"5\")."
      ],
      "metadata": {
        "id": "IreNhP7EcNw8"
      }
    },
    {
      "cell_type": "markdown",
      "source": [
        "**10. What is the difference between implicit and explicit type casting?**\n",
        "\n",
        "**Answer:-** Implicit casting happens automatically, like when Python converts int to float. Explicit casting is when we do it ourselves using functions like int(), float(), or str()."
      ],
      "metadata": {
        "id": "fhmHX8tgcNzs"
      }
    },
    {
      "cell_type": "markdown",
      "source": [
        "**11. What is the purpose of conditional statements in Python?**\n",
        "\n",
        "**Answer:-** Conditional statements help the program make decisions. They run different code depending on whether a condition is true or false."
      ],
      "metadata": {
        "id": "VrPpzPO_cN3Q"
      }
    },
    {
      "cell_type": "markdown",
      "source": [
        "**12. How does the elif statement work?**\n",
        "\n",
        "**Answer:-** The elif (else if) statement is used when we want to check more than one condition. If the first if is false, Python checks the elif."
      ],
      "metadata": {
        "id": "xcf2tNg2cN5_"
      }
    },
    {
      "cell_type": "markdown",
      "source": [
        "**13. What is the difference between for and while loops?**\n",
        "\n",
        "**Answer:-** A for loop runs a fixed number of times. A while loop keeps running as long as the condition is true. We use for when we know how many times to loop, and while when we don’t."
      ],
      "metadata": {
        "id": "XlDO63ltcN82"
      }
    },
    {
      "cell_type": "markdown",
      "source": [
        "**14. Describe a scenario where a while loop is more suitable than a for loop**.\n",
        "\n",
        "**Answer:-** If we are asking a user to enter a correct password and we don’t know how many tries they will need, a while loop is better because it will keep asking until the answer is correct.\n",
        "\n"
      ],
      "metadata": {
        "id": "Sd6yojCIcOBn"
      }
    },
    {
      "cell_type": "markdown",
      "source": [
        "# **PRACTICAL QUESTION (ASSIGNMENT)**"
      ],
      "metadata": {
        "id": "1hbejbODcOEp"
      }
    },
    {
      "cell_type": "markdown",
      "source": [
        "**1. Write a Python program to print \"Hello, World!\"**"
      ],
      "metadata": {
        "id": "UjX7VCb8hqCL"
      }
    },
    {
      "cell_type": "code",
      "source": [
        "print(\"Hello, World!\")\n"
      ],
      "metadata": {
        "colab": {
          "base_uri": "https://localhost:8080/"
        },
        "id": "7lTEcj7khp3B",
        "outputId": "e9193b8c-2809-4c3b-e7fd-9e33e5472c8d"
      },
      "execution_count": 1,
      "outputs": [
        {
          "output_type": "stream",
          "name": "stdout",
          "text": [
            "Hello, World!\n"
          ]
        }
      ]
    },
    {
      "cell_type": "markdown",
      "source": [
        "**2. Write a Python program that displays your name and age.**"
      ],
      "metadata": {
        "id": "FZBTn9N7hpuK"
      }
    },
    {
      "cell_type": "code",
      "source": [
        "name = \"John\"\n",
        "age = 20\n",
        "print(\"My name is\", name)\n",
        "print(\"My age is\", age)\n"
      ],
      "metadata": {
        "colab": {
          "base_uri": "https://localhost:8080/"
        },
        "id": "FZEbOD4Whpk9",
        "outputId": "d5dc5465-5303-4471-cf07-e589f02dcba7"
      },
      "execution_count": 2,
      "outputs": [
        {
          "output_type": "stream",
          "name": "stdout",
          "text": [
            "My name is John\n",
            "My age is 20\n"
          ]
        }
      ]
    },
    {
      "cell_type": "markdown",
      "source": [
        "**3. Write code to print all the pre-defined keywords in Python using the keyword library.**"
      ],
      "metadata": {
        "id": "eoj7kQYwhpdA"
      }
    },
    {
      "cell_type": "code",
      "source": [
        "import keyword\n",
        "print(\"Python keywords are:\")\n",
        "print(keyword.kwlist)\n"
      ],
      "metadata": {
        "colab": {
          "base_uri": "https://localhost:8080/"
        },
        "id": "lw9sXPGwhpS3",
        "outputId": "171723ca-948a-4251-9b10-8d2e14257dac"
      },
      "execution_count": 3,
      "outputs": [
        {
          "output_type": "stream",
          "name": "stdout",
          "text": [
            "Python keywords are:\n",
            "['False', 'None', 'True', 'and', 'as', 'assert', 'async', 'await', 'break', 'class', 'continue', 'def', 'del', 'elif', 'else', 'except', 'finally', 'for', 'from', 'global', 'if', 'import', 'in', 'is', 'lambda', 'nonlocal', 'not', 'or', 'pass', 'raise', 'return', 'try', 'while', 'with', 'yield']\n"
          ]
        }
      ]
    },
    {
      "cell_type": "markdown",
      "source": [
        "**4. Write a program that checks if a given word is a Python keyword.**"
      ],
      "metadata": {
        "id": "zcCDHkc6hpKh"
      }
    },
    {
      "cell_type": "code",
      "source": [
        "import keyword\n",
        "word = input(\"Enter a word: \")\n",
        "if keyword.iskeyword(word):\n",
        "    print(word, \"is a Python keyword.\")\n",
        "else:\n",
        "    print(word, \"is not a Python keyword.\")\n"
      ],
      "metadata": {
        "colab": {
          "base_uri": "https://localhost:8080/"
        },
        "id": "F5ROX33RhpBM",
        "outputId": "1846daed-5410-4673-daa6-79a9cbb2c30f"
      },
      "execution_count": 8,
      "outputs": [
        {
          "output_type": "stream",
          "name": "stdout",
          "text": [
            "Enter a word: true\n",
            "true is not a Python keyword.\n"
          ]
        }
      ]
    },
    {
      "cell_type": "markdown",
      "source": [
        "**5. Create a list and tuple in Python, and demonstrate how attempting to change an element works differently for each.**"
      ],
      "metadata": {
        "id": "lUZGOBL7ho5Y"
      }
    },
    {
      "cell_type": "code",
      "source": [
        "my_list = [1, 2, 3]\n",
        "my_tuple = (1, 2, 3)\n",
        "\n",
        "# Changing list element\n",
        "my_list[0] = 100\n",
        "print(\"Modified list:\", my_list)\n",
        "\n",
        "# Trying to change tuple element (this will cause error if uncommented)\n",
        "# my_tuple[0] = 100\n",
        "print(\"Tuple remains unchanged:\", my_tuple)\n"
      ],
      "metadata": {
        "id": "FZKrG3U7hovd"
      },
      "execution_count": 7,
      "outputs": []
    },
    {
      "cell_type": "markdown",
      "source": [
        "**6. Write a function to demonstrate the behavior of mutable and immutable arguments.**"
      ],
      "metadata": {
        "id": "-5rR_C5GhooM"
      }
    },
    {
      "cell_type": "code",
      "source": [
        "def change_list(lst):\n",
        "    lst[0] = \"Changed\"\n",
        "\n",
        "def change_number(num):\n",
        "    num = 100\n",
        "    return num\n",
        "\n",
        "my_list = [1, 2, 3]\n",
        "my_number = 10\n",
        "\n",
        "change_list(my_list)\n",
        "my_number = change_number(my_number)\n",
        "\n",
        "print(\"List after function call:\", my_list)\n",
        "print(\"Number after function call:\", my_number)\n"
      ],
      "metadata": {
        "id": "Up3uicJRjf1o"
      },
      "execution_count": null,
      "outputs": []
    },
    {
      "cell_type": "markdown",
      "source": [
        "**7. Write a program that performs basic arithmetic operations on two user-input numbers.**"
      ],
      "metadata": {
        "id": "bO65YAz5hoXz"
      }
    },
    {
      "cell_type": "code",
      "source": [
        "a = int(input(\"Enter first number: \"))\n",
        "b = int(input(\"Enter second number: \"))\n",
        "\n",
        "print(\"Addition:\", a + b)\n",
        "print(\"Subtraction:\", a - b)\n",
        "print(\"Multiplication:\", a * b)\n",
        "print(\"Division:\", a / b)\n"
      ],
      "metadata": {
        "id": "bFYKQfdIjqCM"
      },
      "execution_count": null,
      "outputs": []
    },
    {
      "cell_type": "markdown",
      "source": [
        "**8. Write a program to demonstrate the use of logical operators.**\n",
        "\n"
      ],
      "metadata": {
        "id": "VI2YgjqbhnYi"
      }
    },
    {
      "cell_type": "code",
      "source": [
        "x = int(input(\"Enter a number: \"))\n",
        "\n",
        "if x > 0 and x < 100:\n",
        "    print(\"The number is between 1 and 99\")\n",
        "else:\n",
        "    print(\"The number is not in range\")\n"
      ],
      "metadata": {
        "id": "2IGtTYvthnO0"
      },
      "execution_count": null,
      "outputs": []
    },
    {
      "cell_type": "markdown",
      "source": [
        "**9. Write a Python program to convert user input from string to integer, float, and boolean types.**"
      ],
      "metadata": {
        "id": "18mn5cSwhnHs"
      }
    },
    {
      "cell_type": "code",
      "source": [
        "value = input(\"Enter a value: \")\n",
        "\n",
        "int_value = int(value)\n",
        "float_value = float(value)\n",
        "bool_value = bool(value)\n",
        "\n",
        "print(\"As Integer:\", int_value)\n",
        "print(\"As Float:\", float_value)\n",
        "print(\"As Boolean:\", bool_value)\n"
      ],
      "metadata": {
        "id": "tY3pc2Bthm_E"
      },
      "execution_count": null,
      "outputs": []
    },
    {
      "cell_type": "markdown",
      "source": [
        "**10. Write code to demonstrate type casting with list elements.**"
      ],
      "metadata": {
        "id": "sibqkjlBhm3y"
      }
    },
    {
      "cell_type": "code",
      "source": [
        "str_list = [\"10\", \"20\", \"30\"]\n",
        "int_list = [int(i) for i in str_list]\n",
        "\n",
        "print(\"Original list:\", str_list)\n",
        "print(\"Converted to integers:\", int_list)\n"
      ],
      "metadata": {
        "id": "l882qNU4hmtG"
      },
      "execution_count": null,
      "outputs": []
    },
    {
      "cell_type": "markdown",
      "source": [
        "**11. Write a program that checks if a number is positive, negative, or zero.**"
      ],
      "metadata": {
        "id": "HG-9qyRvhmVs"
      }
    },
    {
      "cell_type": "code",
      "source": [
        "num = int(input(\"Enter a number: \"))\n",
        "\n",
        "if num > 0:\n",
        "    print(\"The number is positive\")\n",
        "elif num < 0:\n",
        "    print(\"The number is negative\")\n",
        "else:\n",
        "    print(\"The number is zero\")\n"
      ],
      "metadata": {
        "id": "zsA1qzY3hmNg"
      },
      "execution_count": null,
      "outputs": []
    },
    {
      "cell_type": "markdown",
      "source": [
        "**12. Write a for loop to print numbers from 1 to 10.**"
      ],
      "metadata": {
        "id": "0AKOvqfRhmF2"
      }
    },
    {
      "cell_type": "code",
      "source": [
        "for i in range(1, 11):\n",
        "    print(i)\n"
      ],
      "metadata": {
        "id": "yat4ofgGhl9Q"
      },
      "execution_count": null,
      "outputs": []
    },
    {
      "cell_type": "markdown",
      "source": [
        "**13. Write a Python program to find the sum of all even numbers between 1 and 50.**"
      ],
      "metadata": {
        "id": "KIs1jlajhl2Q"
      }
    },
    {
      "cell_type": "code",
      "source": [
        "total = 0\n",
        "for i in range(1, 51):\n",
        "    if i % 2 == 0:\n",
        "        total += i\n",
        "print(\"Sum of even numbers from 1 to 50 is:\", total)\n"
      ],
      "metadata": {
        "id": "f72vW37Ihltp"
      },
      "execution_count": null,
      "outputs": []
    },
    {
      "cell_type": "markdown",
      "source": [
        "**14. Write a program to reverse a string using a while loop.**"
      ],
      "metadata": {
        "id": "hBuISqexhlmF"
      }
    },
    {
      "cell_type": "code",
      "source": [
        "text = input(\"Enter a string: \")\n",
        "reversed_text = \"\"\n",
        "i = len(text) - 1\n",
        "\n",
        "while i >= 0:\n",
        "    reversed_text += text[i]\n",
        "    i -= 1\n",
        "\n",
        "print(\"Reversed string:\", reversed_text)\n"
      ],
      "metadata": {
        "id": "Nfc9b5vEhldx"
      },
      "execution_count": null,
      "outputs": []
    },
    {
      "cell_type": "markdown",
      "source": [
        "**15. Write a Python program to calculate the factorial of a number provided by the user using a while loop.**"
      ],
      "metadata": {
        "id": "VkB2vF48hlWV"
      }
    },
    {
      "cell_type": "code",
      "source": [
        "num = int(input(\"Enter a number: \"))\n",
        "factorial = 1\n",
        "i = 1\n",
        "\n",
        "while i <= num:\n",
        "    factorial *= i\n",
        "    i += 1\n",
        "\n",
        "print(\"Factorial of\", num, \"is\", factorial)\n"
      ],
      "metadata": {
        "id": "7jbq1FWwhlOa"
      },
      "execution_count": null,
      "outputs": []
    }
  ]
}